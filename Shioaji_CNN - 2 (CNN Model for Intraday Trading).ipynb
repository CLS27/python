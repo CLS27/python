{
 "cells": [
  {
   "cell_type": "markdown",
   "metadata": {},
   "source": [
    "## Shioaji_CNN - 2 (CNN Model for Intraday Trading)"
   ]
  },
  {
   "cell_type": "markdown",
   "metadata": {
    "ExecuteTime": {
     "end_time": "2021-01-04T02:54:18.806506Z",
     "start_time": "2021-01-04T02:54:18.803479Z"
    }
   },
   "source": [
    "### 本範例程式利用永豐python api取得盤中即時報價並丟入已訓練好的CNN模型中，輸出即時預測結果"
   ]
  },
  {
   "cell_type": "markdown",
   "metadata": {},
   "source": [
    "需要有永豐金證券的帳號以及憑證才能使用Shioaji API進行下單：<br>\n",
    "1.永豐金證券帳號：登入、取得報價<br>\n",
    "2.下單憑證：有永豐金證券帳號後，下載電腦版下單軟體、下載憑證(.pfx檔案)，並指定憑證檔案的路徑載入<br>"
   ]
  },
  {
   "cell_type": "markdown",
   "metadata": {},
   "source": [
    "### 登入永豐帳號"
   ]
  },
  {
   "cell_type": "code",
   "execution_count": 1,
   "metadata": {
    "ExecuteTime": {
     "end_time": "2021-01-05T06:17:29.595936Z",
     "start_time": "2021-01-05T06:17:29.364916Z"
    }
   },
   "outputs": [],
   "source": [
    "import pandas as pd\n",
    "key = pd.read_csv('key.csv')  \n",
    "account = key.iloc[0,0]\n",
    "password = key.iloc[0,1]"
   ]
  },
  {
   "cell_type": "code",
   "execution_count": 2,
   "metadata": {
    "ExecuteTime": {
     "end_time": "2021-01-05T06:17:33.861554Z",
     "start_time": "2021-01-05T06:17:31.479760Z"
    }
   },
   "outputs": [
    {
     "name": "stdout",
     "output_type": "stream",
     "text": [
      "Response Code: 0 | Event Code: 0 | Info: host '203.66.91.161:80', hostname '203.66.91.161:80' IP 203.66.91.161:80 (host 1 of 1) (host connection attempt 1 of 1) (total connection attempt 1 of 1) | Event: Session up\n"
     ]
    }
   ],
   "source": [
    "import shioaji as sj\n",
    "api = sj.Shioaji()\n",
    "accounts = api.login(account,password)\n",
    "\n",
    "# 載入憑證(下單才需要)\n",
    "# api.activate_ca(\n",
    "#     ca_path=\"/c/your/ca/path/Sinopac.pfx\",\n",
    "#     ca_passwd=\"YOUR_CA_PASSWORD\",\n",
    "#     person_id=\"Person of this Ca\",\n",
    "# )"
   ]
  },
  {
   "cell_type": "markdown",
   "metadata": {},
   "source": [
    "### 取得日期"
   ]
  },
  {
   "cell_type": "code",
   "execution_count": 3,
   "metadata": {
    "ExecuteTime": {
     "end_time": "2021-01-05T06:17:38.181355Z",
     "start_time": "2021-01-05T06:17:38.177397Z"
    }
   },
   "outputs": [
    {
     "name": "stdout",
     "output_type": "stream",
     "text": [
      "yesterday =  2021-01-04 today =  2021-01-05\n"
     ]
    }
   ],
   "source": [
    "import datetime \n",
    "today = datetime.date.today()\n",
    "yesterday = datetime.date.today()-datetime.timedelta(days=1)\n",
    "print('yesterday = ',yesterday,'today = ',today)"
   ]
  },
  {
   "cell_type": "markdown",
   "metadata": {},
   "source": [
    "### 取得近兩日的分K資料"
   ]
  },
  {
   "cell_type": "code",
   "execution_count": 4,
   "metadata": {
    "ExecuteTime": {
     "end_time": "2021-01-05T06:17:40.332136Z",
     "start_time": "2021-01-05T06:17:40.231146Z"
    }
   },
   "outputs": [
    {
     "data": {
      "text/html": [
       "<div>\n",
       "<style scoped>\n",
       "    .dataframe tbody tr th:only-of-type {\n",
       "        vertical-align: middle;\n",
       "    }\n",
       "\n",
       "    .dataframe tbody tr th {\n",
       "        vertical-align: top;\n",
       "    }\n",
       "\n",
       "    .dataframe thead th {\n",
       "        text-align: right;\n",
       "    }\n",
       "</style>\n",
       "<table border=\"1\" class=\"dataframe\">\n",
       "  <thead>\n",
       "    <tr style=\"text-align: right;\">\n",
       "      <th></th>\n",
       "      <th>Open</th>\n",
       "      <th>Low</th>\n",
       "      <th>Volume</th>\n",
       "      <th>High</th>\n",
       "      <th>Close</th>\n",
       "      <th>ts</th>\n",
       "    </tr>\n",
       "  </thead>\n",
       "  <tbody>\n",
       "    <tr>\n",
       "      <th>0</th>\n",
       "      <td>46.15</td>\n",
       "      <td>46.00</td>\n",
       "      <td>11413</td>\n",
       "      <td>46.45</td>\n",
       "      <td>46.35</td>\n",
       "      <td>2021-01-04 09:01:00</td>\n",
       "    </tr>\n",
       "    <tr>\n",
       "      <th>1</th>\n",
       "      <td>46.35</td>\n",
       "      <td>46.10</td>\n",
       "      <td>4701</td>\n",
       "      <td>46.50</td>\n",
       "      <td>46.20</td>\n",
       "      <td>2021-01-04 09:02:00</td>\n",
       "    </tr>\n",
       "    <tr>\n",
       "      <th>2</th>\n",
       "      <td>46.20</td>\n",
       "      <td>46.05</td>\n",
       "      <td>3887</td>\n",
       "      <td>46.25</td>\n",
       "      <td>46.20</td>\n",
       "      <td>2021-01-04 09:03:00</td>\n",
       "    </tr>\n",
       "    <tr>\n",
       "      <th>3</th>\n",
       "      <td>46.20</td>\n",
       "      <td>45.85</td>\n",
       "      <td>6900</td>\n",
       "      <td>46.20</td>\n",
       "      <td>45.90</td>\n",
       "      <td>2021-01-04 09:04:00</td>\n",
       "    </tr>\n",
       "    <tr>\n",
       "      <th>4</th>\n",
       "      <td>45.90</td>\n",
       "      <td>45.50</td>\n",
       "      <td>6267</td>\n",
       "      <td>45.90</td>\n",
       "      <td>45.50</td>\n",
       "      <td>2021-01-04 09:05:00</td>\n",
       "    </tr>\n",
       "    <tr>\n",
       "      <th>...</th>\n",
       "      <td>...</td>\n",
       "      <td>...</td>\n",
       "      <td>...</td>\n",
       "      <td>...</td>\n",
       "      <td>...</td>\n",
       "      <td>...</td>\n",
       "    </tr>\n",
       "    <tr>\n",
       "      <th>535</th>\n",
       "      <td>46.25</td>\n",
       "      <td>46.25</td>\n",
       "      <td>0</td>\n",
       "      <td>46.25</td>\n",
       "      <td>46.25</td>\n",
       "      <td>2021-01-05 13:26:00</td>\n",
       "    </tr>\n",
       "    <tr>\n",
       "      <th>536</th>\n",
       "      <td>46.25</td>\n",
       "      <td>46.25</td>\n",
       "      <td>0</td>\n",
       "      <td>46.25</td>\n",
       "      <td>46.25</td>\n",
       "      <td>2021-01-05 13:27:00</td>\n",
       "    </tr>\n",
       "    <tr>\n",
       "      <th>537</th>\n",
       "      <td>46.25</td>\n",
       "      <td>46.25</td>\n",
       "      <td>0</td>\n",
       "      <td>46.25</td>\n",
       "      <td>46.25</td>\n",
       "      <td>2021-01-05 13:28:00</td>\n",
       "    </tr>\n",
       "    <tr>\n",
       "      <th>538</th>\n",
       "      <td>46.25</td>\n",
       "      <td>46.25</td>\n",
       "      <td>0</td>\n",
       "      <td>46.25</td>\n",
       "      <td>46.25</td>\n",
       "      <td>2021-01-05 13:29:00</td>\n",
       "    </tr>\n",
       "    <tr>\n",
       "      <th>539</th>\n",
       "      <td>46.35</td>\n",
       "      <td>46.35</td>\n",
       "      <td>12882</td>\n",
       "      <td>46.35</td>\n",
       "      <td>46.35</td>\n",
       "      <td>2021-01-05 13:30:00</td>\n",
       "    </tr>\n",
       "  </tbody>\n",
       "</table>\n",
       "<p>540 rows × 6 columns</p>\n",
       "</div>"
      ],
      "text/plain": [
       "      Open    Low  Volume   High  Close                  ts\n",
       "0    46.15  46.00   11413  46.45  46.35 2021-01-04 09:01:00\n",
       "1    46.35  46.10    4701  46.50  46.20 2021-01-04 09:02:00\n",
       "2    46.20  46.05    3887  46.25  46.20 2021-01-04 09:03:00\n",
       "3    46.20  45.85    6900  46.20  45.90 2021-01-04 09:04:00\n",
       "4    45.90  45.50    6267  45.90  45.50 2021-01-04 09:05:00\n",
       "..     ...    ...     ...    ...    ...                 ...\n",
       "535  46.25  46.25       0  46.25  46.25 2021-01-05 13:26:00\n",
       "536  46.25  46.25       0  46.25  46.25 2021-01-05 13:27:00\n",
       "537  46.25  46.25       0  46.25  46.25 2021-01-05 13:28:00\n",
       "538  46.25  46.25       0  46.25  46.25 2021-01-05 13:29:00\n",
       "539  46.35  46.35   12882  46.35  46.35 2021-01-05 13:30:00\n",
       "\n",
       "[540 rows x 6 columns]"
      ]
     },
     "execution_count": 4,
     "metadata": {},
     "output_type": "execute_result"
    }
   ],
   "source": [
    "import pandas as pd\n",
    "ID = 2303\n",
    "stock_ID = str(ID)\n",
    "contract = api.Contracts.Stocks[stock_ID]\n",
    "kbars = api.kbars(contract, start=str(yesterday), end=str(today))\n",
    "df = pd.DataFrame({**kbars})\n",
    "df.ts = pd.to_datetime(df.ts)\n",
    "df"
   ]
  },
  {
   "cell_type": "markdown",
   "metadata": {},
   "source": [
    "### 將分K收盤價轉成series"
   ]
  },
  {
   "cell_type": "code",
   "execution_count": 5,
   "metadata": {
    "ExecuteTime": {
     "end_time": "2021-01-05T06:17:43.094573Z",
     "start_time": "2021-01-05T06:17:43.087593Z"
    }
   },
   "outputs": [
    {
     "data": {
      "text/plain": [
       "ts\n",
       "2021-01-05 10:11:00    45.10\n",
       "2021-01-05 10:12:00    45.25\n",
       "2021-01-05 10:13:00    45.20\n",
       "2021-01-05 10:14:00    45.20\n",
       "2021-01-05 10:15:00    45.20\n",
       "                       ...  \n",
       "2021-01-05 13:26:00    46.25\n",
       "2021-01-05 13:27:00    46.25\n",
       "2021-01-05 13:28:00    46.25\n",
       "2021-01-05 13:29:00    46.25\n",
       "2021-01-05 13:30:00    46.35\n",
       "Length: 200, dtype: float64"
      ]
     },
     "execution_count": 5,
     "metadata": {},
     "output_type": "execute_result"
    }
   ],
   "source": [
    "stock_price = pd.Series(df['Close'].values, index=df['ts']).tail(200)\n",
    "stock_price"
   ]
  },
  {
   "cell_type": "markdown",
   "metadata": {},
   "source": [
    "### 盤中取得最新的200根分K並丟進模型，每分鐘輸出即時預測結果"
   ]
  },
  {
   "cell_type": "code",
   "execution_count": null,
   "metadata": {
    "ExecuteTime": {
     "start_time": "2021-01-05T06:17:57.615Z"
    }
   },
   "outputs": [
    {
     "name": "stdout",
     "output_type": "stream",
     "text": [
      "time =  2021-01-05 14:18:00\n",
      "prediction =  0.41000000000000003 %\n",
      "time =  2021-01-05 14:18:00\n",
      "prediction =  0.38 %\n",
      "time =  2021-01-05 14:19:00\n",
      "prediction =  0.41000000000000003 %\n",
      "time =  2021-01-05 14:19:00\n",
      "prediction =  0.38999999999999996 %\n"
     ]
    }
   ],
   "source": [
    "import datetime\n",
    "import schedule\n",
    "import time\n",
    "import keras\n",
    "model = keras.models.load_model(stock_ID +'.h5')\n",
    "time_period = 200\n",
    "\n",
    "def CNN_prdiction_intraday():\n",
    "    now_X = []\n",
    "    \n",
    "    snapshot = api.snapshots([contract])\n",
    "    update_close = pd.DataFrame(snapshot)\n",
    "    update_close.ts = pd.to_datetime(update_close.ts)\n",
    "    update_close = pd.Series(update_close['close'].values, index=pd.Series(datetime.datetime.now().strftime('%Y-%m-%d %H:%M:%S')))\n",
    "    global stock_price\n",
    "    stock_price = stock_price.append(update_close).tail(200)\n",
    "    \n",
    "    #正規化\n",
    "    for i in range(len(stock_price) - time_period, len(stock_price) - (time_period-1)):\n",
    "        P = stock_price.iloc[i:i+time_period].values  # 0~200-1\n",
    "        now_X.append((P - P.min())/(P.max() - P.min()))\n",
    "\n",
    "    now_X = np.array(now_X)\n",
    "    now_X = now_X.reshape(len(now_X), time_period, 1)\n",
    "    \n",
    "    #將最新的200根分K丟進模型\n",
    "    prediction_now = 1-(np.squeeze(model.predict(now_X)))\n",
    "    \n",
    "    #輸出即時預測結果\n",
    "    print('time = ',datetime.datetime.now().strftime('%Y-%m-%d %H:%M:%S'))\n",
    "    print('prediction = ',round(prediction_now,4)*100,'%')\n",
    "\n",
    "schedule.every().minute.at(\":00\").do(CNN_prdiction_intraday)  # 每分鐘執行一次，取得盤中最新的200根分K並丟進模型，輸出即時預測結果\n",
    "while 1:\n",
    "    schedule.run_pending()"
   ]
  }
 ],
 "metadata": {
  "kernelspec": {
   "display_name": "finlab",
   "language": "python",
   "name": "finlab"
  },
  "language_info": {
   "codemirror_mode": {
    "name": "ipython",
    "version": 3
   },
   "file_extension": ".py",
   "mimetype": "text/x-python",
   "name": "python",
   "nbconvert_exporter": "python",
   "pygments_lexer": "ipython3",
   "version": "3.6.12"
  },
  "toc": {
   "base_numbering": 1,
   "nav_menu": {},
   "number_sections": true,
   "sideBar": true,
   "skip_h1_title": false,
   "title_cell": "Table of Contents",
   "title_sidebar": "Contents",
   "toc_cell": false,
   "toc_position": {},
   "toc_section_display": true,
   "toc_window_display": false
  },
  "varInspector": {
   "cols": {
    "lenName": 16,
    "lenType": 16,
    "lenVar": 40
   },
   "kernels_config": {
    "python": {
     "delete_cmd_postfix": "",
     "delete_cmd_prefix": "del ",
     "library": "var_list.py",
     "varRefreshCmd": "print(var_dic_list())"
    },
    "r": {
     "delete_cmd_postfix": ") ",
     "delete_cmd_prefix": "rm(",
     "library": "var_list.r",
     "varRefreshCmd": "cat(var_dic_list()) "
    }
   },
   "oldHeight": 293.388,
   "position": {
    "height": "40px",
    "left": "1234.66px",
    "right": "20px",
    "top": "79px",
    "width": "250px"
   },
   "types_to_exclude": [
    "module",
    "function",
    "builtin_function_or_method",
    "instance",
    "_Feature"
   ],
   "varInspector_section_display": "none",
   "window_display": true
  }
 },
 "nbformat": 4,
 "nbformat_minor": 4
}
