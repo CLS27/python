{
 "cells": [
  {
   "cell_type": "markdown",
   "metadata": {},
   "source": [
    "## 主觀進場 自動加碼"
   ]
  },
  {
   "cell_type": "markdown",
   "metadata": {},
   "source": [
    "### 登入帳號"
   ]
  },
  {
   "cell_type": "code",
   "execution_count": 8,
   "metadata": {
    "ExecuteTime": {
     "end_time": "2021-01-07T09:07:44.794805Z",
     "start_time": "2021-01-07T09:07:40.170540Z"
    }
   },
   "outputs": [
    {
     "name": "stdout",
     "output_type": "stream",
     "text": [
      "Response Code: 0 | Event Code: 0 | Info: host '203.66.91.161:80', hostname '203.66.91.161:80' IP 203.66.91.161:80 (host 1 of 1) (host connection attempt 1 of 1) (total connection attempt 1 of 1) | Event: Session up\n"
     ]
    }
   ],
   "source": [
    "import shioaji as sj\n",
    "api = sj.Shioaji()\n",
    "\n",
    "import pandas as pd \n",
    "key = pd.read_csv('key.csv')\n",
    "account = key.iloc[0,0]\n",
    "password = key.iloc[0,1]\n",
    "account = api.login(account,password)"
   ]
  },
  {
   "cell_type": "markdown",
   "metadata": {},
   "source": [
    "### 登入模擬帳號"
   ]
  },
  {
   "cell_type": "code",
   "execution_count": 10,
   "metadata": {
    "ExecuteTime": {
     "end_time": "2021-01-07T09:08:50.340996Z",
     "start_time": "2021-01-07T09:08:38.817188Z"
    }
   },
   "outputs": [
    {
     "name": "stdout",
     "output_type": "stream",
     "text": [
      "Response Code: 0 | Event Code: 0 | Info: host '218.32.76.102:80', hostname '218.32.76.102:80' IP 218.32.76.102:80 (host 1 of 1) (host connection attempt 1 of 1) (total connection attempt 1 of 1) | Event: Session up\n"
     ]
    }
   ],
   "source": [
    "import shioaji as sj\n",
    "import pandas as pd \n",
    "api = sj.Shioaji(simulation=True)\n",
    "accounts = api.login(\"PAPIUSER06\", \"2222\", contracts_timeout=10000)"
   ]
  },
  {
   "cell_type": "code",
   "execution_count": null,
   "metadata": {
    "ExecuteTime": {
     "end_time": "2021-01-06T08:43:19.467589Z",
     "start_time": "2021-01-06T08:43:19.053713Z"
    }
   },
   "outputs": [],
   "source": [
    "contract = api.Contracts.Futures.TXF.TXF202102\n",
    "order = api.Order(action=\"Buy\",\n",
    "                price=10200,\n",
    "                quantity=2,\n",
    "                order_type=\"ROD\",\n",
    "                price_type=\"LMT\",\n",
    "                octype=\"Auto\",\n",
    "                account=api.futopt_account)\n",
    "trade = api.place_order(contract, order)\n",
    "trade"
   ]
  },
  {
   "cell_type": "code",
   "execution_count": 9,
   "metadata": {
    "ExecuteTime": {
     "end_time": "2021-01-07T09:07:50.021469Z",
     "start_time": "2021-01-07T09:07:49.330626Z"
    }
   },
   "outputs": [
    {
     "name": "stdout",
     "output_type": "stream",
     "text": [
      "      bid_volume  bid_price  ask_volume  ask_price                   ts  \\\n",
      "0              0        0.0           0        0.0  1609945200058000000   \n",
      "1              2    14832.0           1    14847.0  1609945200608000000   \n",
      "2              1    14833.0           1    14848.0  1609945201584000000   \n",
      "3              1    14835.0           1    14853.0  1609945208519000000   \n",
      "4              1    14848.0           1    14851.0  1609945216192000000   \n",
      "...          ...        ...         ...        ...                  ...   \n",
      "7483           4    15172.0           1    15174.0  1610039156609000000   \n",
      "7484           4    15172.0           2    15175.0  1610039158138000000   \n",
      "7485           4    15174.0           1    15176.0  1610039167236000000   \n",
      "7486           4    15177.0           2    15179.0  1610039258880000000   \n",
      "7487           4    15178.0           1    15180.0  1610039263341000000   \n",
      "\n",
      "      volume    close  \n",
      "0          4  14839.0  \n",
      "1          1  14847.0  \n",
      "2          1  14848.0  \n",
      "3          1  14849.0  \n",
      "4          1  14848.0  \n",
      "...      ...      ...  \n",
      "7483       1  15174.0  \n",
      "7484       1  15175.0  \n",
      "7485       1  15176.0  \n",
      "7486       1  15179.0  \n",
      "7487       1  15180.0  \n",
      "\n",
      "[7488 rows x 7 columns]\n",
      "7487    15180.0\n",
      "Name: close, dtype: float64\n"
     ]
    }
   ],
   "source": [
    "ticks = api.ticks(api.Contracts.Futures.MXF.MXF202102, \"2021-01-08\")\n",
    "ticks_df = (pd.DataFrame({**ticks}))\n",
    "print(ticks_df)\n",
    "print(ticks_df['close'].tail(1))"
   ]
  },
  {
   "cell_type": "code",
   "execution_count": null,
   "metadata": {
    "ExecuteTime": {
     "end_time": "2021-01-07T08:39:26.825366Z",
     "start_time": "2021-01-07T08:17:42.079646Z"
    }
   },
   "outputs": [],
   "source": [
    "# 主觀進場 自動加碼 大波段\n",
    "import schedule\n",
    "contract = api.Contracts.Futures.MXF.MXF202102\n",
    "AvgCost =  14926\n",
    "\n",
    "def sell():\n",
    "    if now_price == S1:\n",
    "        order = api.Order(action=\"Sell\",\n",
    "            price=now_price,\n",
    "            quantity=1,\n",
    "            order_type=\"ROD\",\n",
    "            price_type=\"LMT\",\n",
    "            octype=\"Auto\",\n",
    "            account=api.futopt_account)\n",
    "        trade = api.place_order(contract, order)\n",
    "        print('S1')\n",
    "    if now_price == S2:\n",
    "        order = api.Order(action=\"Sell\",\n",
    "            price=now_price,\n",
    "            quantity=1,\n",
    "            order_type=\"ROD\",\n",
    "            price_type=\"LMT\",\n",
    "            octype=\"Auto\",\n",
    "            account=api.futopt_account)\n",
    "        trade = api.place_order(contract, order)\n",
    "        print('S2')\n",
    "\n",
    "def big_2():\n",
    "    ticks = api.ticks(contract, \"2021-01-08\")\n",
    "    ticks_df = (pd.DataFrame({**ticks}))['close']\n",
    "    High = ticks_df.max()\n",
    "    now_price = ticks_df.tail(1)\n",
    "    # condition_1 : -80\n",
    "    if (High - AvgCost ) <= 80:\n",
    "        S1 = AvgCost - 10\n",
    "        S2 = AvgCost - 70\n",
    "        sell()\n",
    "        print('condition_1:','now = ',now_price = ticks_df.tail(1),'High-AvgCost =',High - AvgCost,'Expected profit = -80')\n",
    "    # condition_2 (B1+120) : +10\n",
    "    if 130 >= (High - AvgCost ) > 80:\n",
    "        S1 = AvgCost + 15\n",
    "        S2 = AvgCost - 5 \n",
    "        sell()\n",
    "        print('condition_2:','now = ',now_price = ticks_df.tail(1),'High-AvgCost =',High - AvgCost,'Expected profit = +10')\n",
    "    # condition_3 (B1+170) : +90\n",
    "    if 180 >= (High - AvgCost ) > 130:\n",
    "        S1 = AvgCost + 60\n",
    "        S2 = AvgCost + 30 \n",
    "        sell()\n",
    "        print('condition_3:','now = ',now_price = ticks_df.tail(1),'High-AvgCost =',High - AvgCost,'Expected profit = +95')\n",
    "\n",
    "    # condition_4 (B1+220) : >150\n",
    "    if (High - AvgCost ) > 180:\n",
    "        S1 = High - 90\n",
    "        S2 = High - 120\n",
    "        Expected_profit = (2*High-210)-2*AvgCost\n",
    "        sell()\n",
    "        print('condition_4:','now = ',now_price = ticks_df.tail(1),'High-AvgCost =',High - AvgCost,'Expected profit =',Expected_profit)\n",
    "\n",
    "schedule.every(20).seconds.do(big_2)\n",
    "while 1:\n",
    "    schedule.run_pending()"
   ]
  },
  {
   "cell_type": "code",
   "execution_count": null,
   "metadata": {},
   "outputs": [],
   "source": []
  },
  {
   "cell_type": "code",
   "execution_count": null,
   "metadata": {},
   "outputs": [],
   "source": []
  }
 ],
 "metadata": {
  "kernelspec": {
   "display_name": "finlab",
   "language": "python",
   "name": "finlab"
  },
  "language_info": {
   "codemirror_mode": {
    "name": "ipython",
    "version": 3
   },
   "file_extension": ".py",
   "mimetype": "text/x-python",
   "name": "python",
   "nbconvert_exporter": "python",
   "pygments_lexer": "ipython3",
   "version": "3.6.12"
  },
  "toc": {
   "base_numbering": 1,
   "nav_menu": {},
   "number_sections": true,
   "sideBar": true,
   "skip_h1_title": false,
   "title_cell": "Table of Contents",
   "title_sidebar": "Contents",
   "toc_cell": false,
   "toc_position": {},
   "toc_section_display": true,
   "toc_window_display": false
  },
  "varInspector": {
   "cols": {
    "lenName": 16,
    "lenType": 16,
    "lenVar": 40
   },
   "kernels_config": {
    "python": {
     "delete_cmd_postfix": "",
     "delete_cmd_prefix": "del ",
     "library": "var_list.py",
     "varRefreshCmd": "print(var_dic_list())"
    },
    "r": {
     "delete_cmd_postfix": ") ",
     "delete_cmd_prefix": "rm(",
     "library": "var_list.r",
     "varRefreshCmd": "cat(var_dic_list()) "
    }
   },
   "types_to_exclude": [
    "module",
    "function",
    "builtin_function_or_method",
    "instance",
    "_Feature"
   ],
   "window_display": false
  }
 },
 "nbformat": 4,
 "nbformat_minor": 4
}
