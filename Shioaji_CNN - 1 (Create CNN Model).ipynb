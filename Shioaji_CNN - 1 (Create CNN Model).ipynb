{
 "cells": [
  {
   "cell_type": "markdown",
   "metadata": {},
   "source": [
    "## Shioaji_CNN - 1 (Create CNN Model) "
   ]
  },
  {
   "cell_type": "markdown",
   "metadata": {},
   "source": [
    "### 本範例程式利用永豐python api的分K資料進行CNN模型訓練"
   ]
  },
  {
   "cell_type": "markdown",
   "metadata": {
    "ExecuteTime": {
     "end_time": "2021-01-05T05:12:14.443115Z",
     "start_time": "2021-01-05T05:12:14.439112Z"
    }
   },
   "source": [
    "Shioaji是永豐金證券提供的API介面，提供報價、下單、回報、帳務等功能<br>\n",
    "官方連結:https://sinotrade.github.io/<br>\n",
    "本範例程式碼著重於如何取得歷史股價並訓練CNN模型，並未對CNN模型的參數與架構特別調整。同理，也可將模型替換成LSTM或其他模型。"
   ]
  },
  {
   "cell_type": "markdown",
   "metadata": {},
   "source": [
    "### 登入永豐帳號"
   ]
  },
  {
   "cell_type": "code",
   "execution_count": 1,
   "metadata": {
    "ExecuteTime": {
     "end_time": "2020-12-30T02:09:46.350510Z",
     "start_time": "2020-12-30T02:09:43.966030Z"
    }
   },
   "outputs": [
    {
     "name": "stdout",
     "output_type": "stream",
     "text": [
      "Response Code: 0 | Event Code: 0 | Info: host '203.66.91.161:80', hostname '203.66.91.161:80' IP 203.66.91.161:80 (host 1 of 1) (host connection attempt 1 of 1) (total connection attempt 1 of 1) | Event: Session up\n"
     ]
    }
   ],
   "source": [
    "import pandas as pd\n",
    "key = pd.read_csv('key.csv')\n",
    "account = key.iloc[0,0]\n",
    "password = key.iloc[0,1]"
   ]
  },
  {
   "cell_type": "markdown",
   "metadata": {},
   "source": [
    "### 取得歷史分K資料"
   ]
  },
  {
   "cell_type": "code",
   "execution_count": 2,
   "metadata": {
    "ExecuteTime": {
     "end_time": "2020-12-30T02:09:54.700223Z",
     "start_time": "2020-12-30T02:09:46.500110Z"
    }
   },
   "outputs": [
    {
     "data": {
      "text/html": [
       "<div>\n",
       "<style scoped>\n",
       "    .dataframe tbody tr th:only-of-type {\n",
       "        vertical-align: middle;\n",
       "    }\n",
       "\n",
       "    .dataframe tbody tr th {\n",
       "        vertical-align: top;\n",
       "    }\n",
       "\n",
       "    .dataframe thead th {\n",
       "        text-align: right;\n",
       "    }\n",
       "</style>\n",
       "<table border=\"1\" class=\"dataframe\">\n",
       "  <thead>\n",
       "    <tr style=\"text-align: right;\">\n",
       "      <th></th>\n",
       "      <th>Volume</th>\n",
       "      <th>Open</th>\n",
       "      <th>High</th>\n",
       "      <th>Close</th>\n",
       "      <th>ts</th>\n",
       "      <th>Low</th>\n",
       "    </tr>\n",
       "  </thead>\n",
       "  <tbody>\n",
       "    <tr>\n",
       "      <th>0</th>\n",
       "      <td>439</td>\n",
       "      <td>16.45</td>\n",
       "      <td>16.45</td>\n",
       "      <td>16.45</td>\n",
       "      <td>2020-01-02 09:01:00</td>\n",
       "      <td>16.45</td>\n",
       "    </tr>\n",
       "    <tr>\n",
       "      <th>1</th>\n",
       "      <td>63</td>\n",
       "      <td>16.45</td>\n",
       "      <td>16.50</td>\n",
       "      <td>16.50</td>\n",
       "      <td>2020-01-02 09:02:00</td>\n",
       "      <td>16.45</td>\n",
       "    </tr>\n",
       "    <tr>\n",
       "      <th>2</th>\n",
       "      <td>17</td>\n",
       "      <td>16.50</td>\n",
       "      <td>16.50</td>\n",
       "      <td>16.50</td>\n",
       "      <td>2020-01-02 09:03:00</td>\n",
       "      <td>16.45</td>\n",
       "    </tr>\n",
       "    <tr>\n",
       "      <th>3</th>\n",
       "      <td>72</td>\n",
       "      <td>16.50</td>\n",
       "      <td>16.50</td>\n",
       "      <td>16.45</td>\n",
       "      <td>2020-01-02 09:04:00</td>\n",
       "      <td>16.45</td>\n",
       "    </tr>\n",
       "    <tr>\n",
       "      <th>4</th>\n",
       "      <td>16</td>\n",
       "      <td>16.45</td>\n",
       "      <td>16.50</td>\n",
       "      <td>16.50</td>\n",
       "      <td>2020-01-02 09:05:00</td>\n",
       "      <td>16.45</td>\n",
       "    </tr>\n",
       "    <tr>\n",
       "      <th>...</th>\n",
       "      <td>...</td>\n",
       "      <td>...</td>\n",
       "      <td>...</td>\n",
       "      <td>...</td>\n",
       "      <td>...</td>\n",
       "      <td>...</td>\n",
       "    </tr>\n",
       "    <tr>\n",
       "      <th>54461</th>\n",
       "      <td>0</td>\n",
       "      <td>46.15</td>\n",
       "      <td>46.15</td>\n",
       "      <td>46.15</td>\n",
       "      <td>2020-12-11 13:26:00</td>\n",
       "      <td>46.15</td>\n",
       "    </tr>\n",
       "    <tr>\n",
       "      <th>54462</th>\n",
       "      <td>0</td>\n",
       "      <td>46.15</td>\n",
       "      <td>46.15</td>\n",
       "      <td>46.15</td>\n",
       "      <td>2020-12-11 13:27:00</td>\n",
       "      <td>46.15</td>\n",
       "    </tr>\n",
       "    <tr>\n",
       "      <th>54463</th>\n",
       "      <td>0</td>\n",
       "      <td>46.15</td>\n",
       "      <td>46.15</td>\n",
       "      <td>46.15</td>\n",
       "      <td>2020-12-11 13:28:00</td>\n",
       "      <td>46.15</td>\n",
       "    </tr>\n",
       "    <tr>\n",
       "      <th>54464</th>\n",
       "      <td>0</td>\n",
       "      <td>46.15</td>\n",
       "      <td>46.15</td>\n",
       "      <td>46.15</td>\n",
       "      <td>2020-12-11 13:29:00</td>\n",
       "      <td>46.15</td>\n",
       "    </tr>\n",
       "    <tr>\n",
       "      <th>54465</th>\n",
       "      <td>14455</td>\n",
       "      <td>46.10</td>\n",
       "      <td>46.10</td>\n",
       "      <td>46.10</td>\n",
       "      <td>2020-12-11 13:30:00</td>\n",
       "      <td>46.10</td>\n",
       "    </tr>\n",
       "  </tbody>\n",
       "</table>\n",
       "<p>54466 rows × 6 columns</p>\n",
       "</div>"
      ],
      "text/plain": [
       "       Volume   Open   High  Close                  ts    Low\n",
       "0         439  16.45  16.45  16.45 2020-01-02 09:01:00  16.45\n",
       "1          63  16.45  16.50  16.50 2020-01-02 09:02:00  16.45\n",
       "2          17  16.50  16.50  16.50 2020-01-02 09:03:00  16.45\n",
       "3          72  16.50  16.50  16.45 2020-01-02 09:04:00  16.45\n",
       "4          16  16.45  16.50  16.50 2020-01-02 09:05:00  16.45\n",
       "...       ...    ...    ...    ...                 ...    ...\n",
       "54461       0  46.15  46.15  46.15 2020-12-11 13:26:00  46.15\n",
       "54462       0  46.15  46.15  46.15 2020-12-11 13:27:00  46.15\n",
       "54463       0  46.15  46.15  46.15 2020-12-11 13:28:00  46.15\n",
       "54464       0  46.15  46.15  46.15 2020-12-11 13:29:00  46.15\n",
       "54465   14455  46.10  46.10  46.10 2020-12-11 13:30:00  46.10\n",
       "\n",
       "[54466 rows x 6 columns]"
      ]
     },
     "execution_count": 2,
     "metadata": {},
     "output_type": "execute_result"
    }
   ],
   "source": [
    "import pandas as pd\n",
    "ID = 2303\n",
    "stock_ID = str(ID)\n",
    "\n",
    "kbars = api.kbars(api.Contracts.Stocks[stock_ID], start=\"2020-01-01\", end=\"2020-12-12\")\n",
    "df = pd.DataFrame({**kbars})\n",
    "df.ts = pd.to_datetime(df.ts)\n",
    "df"
   ]
  },
  {
   "cell_type": "markdown",
   "metadata": {},
   "source": [
    "### 將分K收盤價轉成series"
   ]
  },
  {
   "cell_type": "code",
   "execution_count": 3,
   "metadata": {
    "ExecuteTime": {
     "end_time": "2020-12-30T02:09:54.708176Z",
     "start_time": "2020-12-30T02:09:54.702190Z"
    },
    "scrolled": true
   },
   "outputs": [
    {
     "data": {
      "text/plain": [
       "ts\n",
       "2020-01-02 09:01:00    16.45\n",
       "2020-01-02 09:02:00    16.50\n",
       "2020-01-02 09:03:00    16.50\n",
       "2020-01-02 09:04:00    16.45\n",
       "2020-01-02 09:05:00    16.50\n",
       "                       ...  \n",
       "2020-12-11 13:26:00    46.15\n",
       "2020-12-11 13:27:00    46.15\n",
       "2020-12-11 13:28:00    46.15\n",
       "2020-12-11 13:29:00    46.15\n",
       "2020-12-11 13:30:00    46.10\n",
       "Length: 54466, dtype: float64"
      ]
     },
     "execution_count": 3,
     "metadata": {},
     "output_type": "execute_result"
    }
   ],
   "source": [
    "stock_price = pd.Series(df['Close'].values, index=df['ts'])\n",
    "stock_price"
   ]
  },
  {
   "cell_type": "code",
   "execution_count": 4,
   "metadata": {
    "ExecuteTime": {
     "end_time": "2020-12-30T02:09:55.004038Z",
     "start_time": "2020-12-30T02:09:54.709198Z"
    }
   },
   "outputs": [
    {
     "data": {
      "text/plain": [
       "[<matplotlib.lines.Line2D at 0x1e09d7fa780>]"
      ]
     },
     "execution_count": 4,
     "metadata": {},
     "output_type": "execute_result"
    },
    {
     "data": {
      "image/png": "[encoded data removed]",
      "text/plain": [
       "<Figure size 432x288 with 1 Axes>"
      ]
     },
     "metadata": {
      "needs_background": "light"
     },
     "output_type": "display_data"
    }
   ],
   "source": [
    "import matplotlib.pyplot as plt\n",
    "plt.plot(stock_price)"
   ]
  },
  {
   "cell_type": "markdown",
   "metadata": {
    "ExecuteTime": {
     "end_time": "2020-12-29T07:30:35.345258Z",
     "start_time": "2020-12-29T07:30:35.342267Z"
    }
   },
   "source": [
    "### features & labels"
   ]
  },
  {
   "cell_type": "markdown",
   "metadata": {},
   "source": [
    "#### CNN的input為過去200根分K的正規化收盤價，labels為10根分K後的報酬率"
   ]
  },
  {
   "cell_type": "code",
   "execution_count": 5,
   "metadata": {
    "ExecuteTime": {
     "end_time": "2020-12-30T02:09:55.007056Z",
     "start_time": "2020-12-30T02:09:55.005035Z"
    }
   },
   "outputs": [],
   "source": [
    "time_period = 200\n",
    "cnn_X = []  \n",
    "cnn_Y = []\n",
    "indexs = []"
   ]
  },
  {
   "cell_type": "code",
   "execution_count": 6,
   "metadata": {
    "ExecuteTime": {
     "end_time": "2020-12-30T02:09:55.348113Z",
     "start_time": "2020-12-30T02:09:55.008027Z"
    }
   },
   "outputs": [],
   "source": [
    "import numpy as np\n",
    "for i in range(0, len(stock_price) - time_period - 10, 20):  \n",
    "    \n",
    "    return_10days = stock_price.iloc[i+time_period+10] / stock_price.iloc[i+time_period]  \n",
    "    cnn_Y.append(return_10days)\n",
    "    indexs.append(stock_price.index[i+time_period]) \n",
    "    \n",
    "    P = stock_price.iloc[i:i+time_period].values  \n",
    "    if P.max() == P.min():   # 漲停或跌停\n",
    "        yesterday = stock_price.iloc[i-270:i-269].index.date\n",
    "        yesterday_close = stock_price[str(pd.Series(yesterday).iloc[0])][-1]\n",
    "        if P.max() >= yesterday_close:   # 漲停\n",
    "            One = np.array([1]*200)\n",
    "            cnn_X.append(One)       # 漲停設為1\n",
    "        if P.max() < yesterday_close:    # 跌停\n",
    "            Zero = np.array([0]*200)\n",
    "            cnn_X.append(Zero)    # # 跌停設為0\n",
    "    else:\n",
    "        cnn_X.append((P - P.min())/(P.max() - P.min()))   # 使股價正規化，介於0與1之間"
   ]
  },
  {
   "cell_type": "markdown",
   "metadata": {},
   "source": [
    "#### cnn_X為200根分K正規化的收盤價"
   ]
  },
  {
   "cell_type": "code",
   "execution_count": 7,
   "metadata": {
    "ExecuteTime": {
     "end_time": "2020-12-30T02:09:55.354097Z",
     "start_time": "2020-12-30T02:09:55.349110Z"
    }
   },
   "outputs": [
    {
     "data": {
      "text/plain": [
       "array([0.  , 0.25, 0.25, 0.  , 0.25, 0.25, 0.  , 0.  , 0.  , 0.25, 0.  ,\n",
       "       0.  , 0.  , 0.  , 0.25, 0.  , 0.  , 0.  , 0.25, 0.  , 0.  , 0.  ,\n",
       "       0.  , 0.  , 0.25, 0.  , 0.  , 0.  , 0.  , 0.  , 0.  , 0.25, 0.25,\n",
       "       0.25, 0.  , 0.  , 0.  , 0.  , 0.25, 0.  , 0.  , 0.25, 0.25, 0.  ,\n",
       "       0.  , 0.  , 0.25, 0.25, 0.  , 0.  , 0.25, 0.25, 0.25, 0.25, 0.25,\n",
       "       0.25, 0.25, 0.  , 0.25, 0.25, 0.25, 0.5 , 0.5 , 0.5 , 0.5 , 0.5 ,\n",
       "       0.5 , 0.5 , 0.25, 0.25, 0.25, 0.5 , 0.5 , 0.5 , 0.5 , 0.5 , 0.75,\n",
       "       1.  , 0.75, 0.5 , 0.75, 0.75, 0.75, 0.5 , 0.5 , 0.75, 0.75, 0.5 ,\n",
       "       0.75, 0.5 , 0.5 , 0.75, 0.5 , 0.75, 0.75, 0.75, 0.75, 0.5 , 0.5 ,\n",
       "       0.75, 0.25, 0.75, 0.75, 0.75, 0.5 , 0.5 , 0.5 , 0.5 , 0.5 , 0.25,\n",
       "       0.5 , 0.5 , 0.5 , 0.5 , 0.5 , 0.75, 0.5 , 0.5 , 0.5 , 0.75, 0.75,\n",
       "       0.75, 0.5 , 0.75, 0.75, 0.75, 0.75, 0.75, 0.75, 0.75, 0.75, 0.5 ,\n",
       "       0.75, 0.75, 0.75, 0.5 , 0.5 , 0.75, 0.75, 0.75, 0.75, 0.75, 0.75,\n",
       "       0.75, 0.5 , 0.75, 0.75, 0.75, 0.5 , 0.75, 0.5 , 0.75, 0.75, 0.75,\n",
       "       0.75, 0.75, 0.5 , 0.5 , 0.75, 0.75, 0.75, 0.75, 0.5 , 0.75, 0.75,\n",
       "       0.5 , 0.75, 0.75, 0.75, 0.75, 0.75, 0.75, 0.75, 0.75, 0.75, 0.5 ,\n",
       "       0.75, 0.75, 0.25, 0.5 , 0.5 , 0.5 , 0.25, 0.25, 0.5 , 0.5 , 0.5 ,\n",
       "       0.5 , 0.25, 0.25, 0.5 , 0.5 , 0.5 , 0.25, 0.5 , 0.25, 0.25, 0.25,\n",
       "       0.5 , 0.5 ])"
      ]
     },
     "execution_count": 7,
     "metadata": {},
     "output_type": "execute_result"
    }
   ],
   "source": [
    "cnn_X[0]"
   ]
  },
  {
   "cell_type": "markdown",
   "metadata": {},
   "source": [
    "#### cnn_Y為10根分K後的報酬率"
   ]
  },
  {
   "cell_type": "code",
   "execution_count": 8,
   "metadata": {
    "ExecuteTime": {
     "end_time": "2020-12-30T02:09:55.359085Z",
     "start_time": "2020-12-30T02:09:55.355094Z"
    }
   },
   "outputs": [
    {
     "data": {
      "text/plain": [
       "0.9969788519637461"
      ]
     },
     "execution_count": 8,
     "metadata": {},
     "output_type": "execute_result"
    }
   ],
   "source": [
    "cnn_Y[0]"
   ]
  },
  {
   "cell_type": "code",
   "execution_count": 9,
   "metadata": {
    "ExecuteTime": {
     "end_time": "2020-12-30T02:09:55.373046Z",
     "start_time": "2020-12-30T02:09:55.360083Z"
    }
   },
   "outputs": [],
   "source": [
    "import datetime\n",
    "\n",
    "cnn_X = np.array(cnn_X)\n",
    "cnn_Y = np.array(cnn_Y)\n",
    "indexs_array = np.array(indexs)\n",
    "\n",
    "# Reshape features and labels\n",
    "cnn_X = cnn_X.reshape(len(cnn_X), time_period, 1)\n",
    "cnn_Y = cnn_Y.reshape(len(cnn_Y), 1)\n",
    "\n",
    "# Split traning and testing data\n",
    "cnn_X_train = cnn_X[indexs_array < datetime.datetime(2020,12,1)] \n",
    "cnn_Y_train = cnn_Y[indexs_array < datetime.datetime(2020,12,1)]"
   ]
  },
  {
   "cell_type": "markdown",
   "metadata": {},
   "source": [
    "### CNN model"
   ]
  },
  {
   "cell_type": "code",
   "execution_count": 12,
   "metadata": {
    "ExecuteTime": {
     "end_time": "2020-12-30T02:10:40.676040Z",
     "start_time": "2020-12-30T02:10:31.797157Z"
    }
   },
   "outputs": [
    {
     "name": "stdout",
     "output_type": "stream",
     "text": [
      "Model: \"sequential_2\"\n",
      "_________________________________________________________________\n",
      "Layer (type)                 Output Shape              Param #   \n",
      "=================================================================\n",
      "conv1d_3 (Conv1D)            (None, 181, 20)           420       \n",
      "_________________________________________________________________\n",
      "average_pooling1d_3 (Average (None, 36, 20)            0         \n",
      "_________________________________________________________________\n",
      "conv1d_4 (Conv1D)            (None, 17, 20)            8020      \n",
      "_________________________________________________________________\n",
      "average_pooling1d_4 (Average (None, 3, 20)             0         \n",
      "_________________________________________________________________\n",
      "flatten_2 (Flatten)          (None, 60)                0         \n",
      "_________________________________________________________________\n",
      "dense_4 (Dense)              (None, 120)               7320      \n",
      "_________________________________________________________________\n",
      "dense_5 (Dense)              (None, 60)                7260      \n",
      "_________________________________________________________________\n",
      "dense_6 (Dense)              (None, 1)                 61        \n",
      "=================================================================\n",
      "Total params: 23,081\n",
      "Trainable params: 23,081\n",
      "Non-trainable params: 0\n",
      "_________________________________________________________________\n",
      "None\n",
      "Train on 2332 samples, validate on 260 samples\n",
      "Epoch 1/100\n",
      "2332/2332 [==============================] - 0s 100us/step - loss: 0.4842 - val_loss: 0.2000\n",
      "Epoch 2/100\n",
      "2332/2332 [==============================] - 0s 35us/step - loss: 0.1147 - val_loss: 0.0978\n",
      "Epoch 3/100\n",
      "2332/2332 [==============================] - 0s 35us/step - loss: 0.0600 - val_loss: 0.0461\n",
      "Epoch 4/100\n",
      "2332/2332 [==============================] - 0s 34us/step - loss: 0.0211 - val_loss: 0.0097\n",
      "Epoch 5/100\n",
      "2332/2332 [==============================] - 0s 35us/step - loss: 0.0077 - val_loss: 0.0042\n",
      "Epoch 6/100\n",
      "2332/2332 [==============================] - 0s 36us/step - loss: 0.0043 - val_loss: 0.0024\n",
      "Epoch 7/100\n",
      "2332/2332 [==============================] - 0s 36us/step - loss: 0.0027 - val_loss: 0.0016\n",
      "Epoch 8/100\n",
      "2332/2332 [==============================] - 0s 35us/step - loss: 0.0017 - val_loss: 8.1278e-04\n",
      "Epoch 9/100\n",
      "2332/2332 [==============================] - 0s 34us/step - loss: 0.0012 - val_loss: 5.5486e-04\n",
      "Epoch 10/100\n",
      "2332/2332 [==============================] - 0s 34us/step - loss: 9.5245e-04 - val_loss: 7.3227e-04\n",
      "Epoch 11/100\n",
      "2332/2332 [==============================] - 0s 35us/step - loss: 7.1756e-04 - val_loss: 4.7349e-04\n",
      "Epoch 12/100\n",
      "2332/2332 [==============================] - 0s 35us/step - loss: 5.6442e-04 - val_loss: 2.7086e-04\n",
      "Epoch 13/100\n",
      "2332/2332 [==============================] - 0s 35us/step - loss: 4.5666e-04 - val_loss: 1.8364e-04\n",
      "Epoch 14/100\n",
      "2332/2332 [==============================] - 0s 36us/step - loss: 3.9281e-04 - val_loss: 1.7476e-04\n",
      "Epoch 15/100\n",
      "2332/2332 [==============================] - 0s 35us/step - loss: 3.1041e-04 - val_loss: 1.6730e-04\n",
      "Epoch 16/100\n",
      "2332/2332 [==============================] - 0s 35us/step - loss: 2.2364e-04 - val_loss: 1.4118e-04\n",
      "Epoch 17/100\n",
      "2332/2332 [==============================] - 0s 33us/step - loss: 1.7851e-04 - val_loss: 9.2107e-05\n",
      "Epoch 18/100\n",
      "2332/2332 [==============================] - 0s 33us/step - loss: 1.4685e-04 - val_loss: 9.3438e-05\n",
      "Epoch 19/100\n",
      "2332/2332 [==============================] - 0s 34us/step - loss: 1.8148e-04 - val_loss: 1.3604e-04\n",
      "Epoch 20/100\n",
      "2332/2332 [==============================] - 0s 35us/step - loss: 1.2421e-04 - val_loss: 8.8132e-05\n",
      "Epoch 21/100\n",
      "2332/2332 [==============================] - 0s 37us/step - loss: 1.3700e-04 - val_loss: 7.4896e-05\n",
      "Epoch 22/100\n",
      "2332/2332 [==============================] - 0s 37us/step - loss: 1.1158e-04 - val_loss: 6.9530e-05\n",
      "Epoch 23/100\n",
      "2332/2332 [==============================] - 0s 35us/step - loss: 1.0129e-04 - val_loss: 1.3766e-04\n",
      "Epoch 24/100\n",
      "2332/2332 [==============================] - 0s 35us/step - loss: 1.0773e-04 - val_loss: 8.1215e-05\n",
      "Epoch 25/100\n",
      "2332/2332 [==============================] - 0s 35us/step - loss: 9.1467e-05 - val_loss: 1.0196e-04\n",
      "Epoch 26/100\n",
      "2332/2332 [==============================] - 0s 34us/step - loss: 1.0970e-04 - val_loss: 8.5841e-05\n",
      "Epoch 27/100\n",
      "2332/2332 [==============================] - 0s 35us/step - loss: 8.7707e-05 - val_loss: 6.2431e-05\n",
      "Epoch 28/100\n",
      "2332/2332 [==============================] - 0s 35us/step - loss: 9.1404e-05 - val_loss: 6.4613e-05\n",
      "Epoch 29/100\n",
      "2332/2332 [==============================] - 0s 35us/step - loss: 8.4759e-05 - val_loss: 5.9591e-05\n",
      "Epoch 30/100\n",
      "2332/2332 [==============================] - 0s 35us/step - loss: 1.0784e-04 - val_loss: 7.7651e-05\n",
      "Epoch 31/100\n",
      "2332/2332 [==============================] - 0s 35us/step - loss: 8.9626e-05 - val_loss: 7.3830e-05\n",
      "Epoch 32/100\n",
      "2332/2332 [==============================] - 0s 35us/step - loss: 8.2081e-05 - val_loss: 5.5774e-05\n",
      "Epoch 33/100\n",
      "2332/2332 [==============================] - 0s 36us/step - loss: 7.8438e-05 - val_loss: 6.3662e-05\n",
      "Epoch 34/100\n",
      "2332/2332 [==============================] - 0s 36us/step - loss: 8.8099e-05 - val_loss: 5.4637e-05\n",
      "Epoch 35/100\n",
      "2332/2332 [==============================] - 0s 35us/step - loss: 7.3377e-05 - val_loss: 6.4438e-05\n",
      "Epoch 36/100\n",
      "2332/2332 [==============================] - 0s 35us/step - loss: 1.0109e-04 - val_loss: 5.2354e-05\n",
      "Epoch 37/100\n",
      "2332/2332 [==============================] - 0s 35us/step - loss: 9.5682e-05 - val_loss: 5.5758e-05\n",
      "Epoch 38/100\n",
      "2332/2332 [==============================] - 0s 35us/step - loss: 7.7392e-05 - val_loss: 5.8469e-05\n",
      "Epoch 39/100\n",
      "2332/2332 [==============================] - 0s 35us/step - loss: 7.2523e-05 - val_loss: 1.5085e-04\n",
      "Epoch 40/100\n",
      "2332/2332 [==============================] - 0s 35us/step - loss: 1.3265e-04 - val_loss: 7.3173e-05\n",
      "Epoch 41/100\n",
      "2332/2332 [==============================] - 0s 34us/step - loss: 1.4183e-04 - val_loss: 6.3795e-05\n",
      "Epoch 42/100\n",
      "2332/2332 [==============================] - 0s 33us/step - loss: 1.4424e-04 - val_loss: 1.9505e-04\n",
      "Epoch 43/100\n",
      "2332/2332 [==============================] - 0s 34us/step - loss: 1.5136e-04 - val_loss: 2.1699e-04\n",
      "Epoch 44/100\n",
      "2332/2332 [==============================] - 0s 34us/step - loss: 1.2928e-04 - val_loss: 4.7185e-05\n",
      "Epoch 45/100\n",
      "2332/2332 [==============================] - 0s 34us/step - loss: 6.9115e-05 - val_loss: 7.1131e-05\n",
      "Epoch 46/100\n",
      "2332/2332 [==============================] - 0s 35us/step - loss: 7.5523e-05 - val_loss: 4.7793e-05\n",
      "Epoch 47/100\n",
      "2332/2332 [==============================] - 0s 35us/step - loss: 9.1962e-05 - val_loss: 6.3408e-05\n",
      "Epoch 48/100\n",
      "2332/2332 [==============================] - 0s 35us/step - loss: 7.5593e-05 - val_loss: 4.6871e-05\n",
      "Epoch 49/100\n",
      "2332/2332 [==============================] - 0s 33us/step - loss: 7.4595e-05 - val_loss: 5.8208e-05\n",
      "Epoch 50/100\n",
      "2332/2332 [==============================] - 0s 35us/step - loss: 9.0257e-05 - val_loss: 6.5486e-05\n",
      "Epoch 51/100\n",
      "2332/2332 [==============================] - 0s 34us/step - loss: 1.1772e-04 - val_loss: 1.2497e-04\n",
      "Epoch 52/100\n",
      "2332/2332 [==============================] - 0s 35us/step - loss: 1.2838e-04 - val_loss: 5.4250e-05\n",
      "Epoch 53/100\n",
      "2332/2332 [==============================] - 0s 35us/step - loss: 1.2087e-04 - val_loss: 1.2435e-04\n",
      "Epoch 54/100\n",
      "2332/2332 [==============================] - 0s 34us/step - loss: 1.4481e-04 - val_loss: 6.2244e-05\n",
      "Epoch 55/100\n",
      "2332/2332 [==============================] - 0s 35us/step - loss: 8.1309e-05 - val_loss: 6.5202e-05\n",
      "Epoch 56/100\n",
      "2332/2332 [==============================] - 0s 35us/step - loss: 7.1562e-05 - val_loss: 8.0948e-05\n",
      "Epoch 57/100\n",
      "2332/2332 [==============================] - 0s 35us/step - loss: 8.4084e-05 - val_loss: 4.5479e-05\n",
      "Epoch 58/100\n",
      "2332/2332 [==============================] - 0s 35us/step - loss: 6.9010e-05 - val_loss: 4.4040e-05\n",
      "Epoch 59/100\n",
      "2332/2332 [==============================] - 0s 35us/step - loss: 1.0624e-04 - val_loss: 1.2779e-04\n",
      "Epoch 60/100\n",
      "2332/2332 [==============================] - 0s 35us/step - loss: 9.7245e-05 - val_loss: 5.1500e-05\n",
      "Epoch 61/100\n",
      "2332/2332 [==============================] - 0s 34us/step - loss: 6.0136e-05 - val_loss: 6.6501e-05\n",
      "Epoch 62/100\n",
      "2332/2332 [==============================] - 0s 35us/step - loss: 8.4783e-05 - val_loss: 8.6454e-05\n",
      "Epoch 63/100\n",
      "2332/2332 [==============================] - 0s 34us/step - loss: 7.1006e-05 - val_loss: 4.1572e-05\n",
      "Epoch 64/100\n",
      "2332/2332 [==============================] - 0s 35us/step - loss: 6.8994e-05 - val_loss: 4.4176e-05\n",
      "Epoch 65/100\n",
      "2332/2332 [==============================] - 0s 34us/step - loss: 9.8150e-05 - val_loss: 6.0306e-05\n",
      "Epoch 66/100\n",
      "2332/2332 [==============================] - 0s 33us/step - loss: 1.3004e-04 - val_loss: 5.2487e-05\n",
      "Epoch 67/100\n",
      "2332/2332 [==============================] - 0s 33us/step - loss: 6.0036e-05 - val_loss: 4.2305e-05\n",
      "Epoch 68/100\n",
      "2332/2332 [==============================] - 0s 34us/step - loss: 5.4154e-05 - val_loss: 5.9786e-05\n",
      "Epoch 69/100\n",
      "2332/2332 [==============================] - 0s 34us/step - loss: 5.6902e-05 - val_loss: 4.2346e-05\n",
      "Epoch 70/100\n",
      "2332/2332 [==============================] - 0s 35us/step - loss: 7.1996e-05 - val_loss: 4.4738e-05\n",
      "Epoch 71/100\n",
      "2332/2332 [==============================] - 0s 35us/step - loss: 6.2828e-05 - val_loss: 5.1331e-05\n",
      "Epoch 72/100\n",
      "2332/2332 [==============================] - 0s 34us/step - loss: 5.5927e-05 - val_loss: 9.9177e-05\n",
      "Epoch 73/100\n",
      "2332/2332 [==============================] - 0s 34us/step - loss: 1.2329e-04 - val_loss: 5.0605e-05\n",
      "Epoch 74/100\n",
      "2332/2332 [==============================] - 0s 35us/step - loss: 7.9049e-05 - val_loss: 6.5927e-05\n",
      "Epoch 75/100\n",
      "2332/2332 [==============================] - 0s 34us/step - loss: 9.6783e-05 - val_loss: 4.2224e-05\n",
      "Epoch 76/100\n",
      "2332/2332 [==============================] - 0s 34us/step - loss: 5.9906e-05 - val_loss: 4.6637e-05\n",
      "Epoch 77/100\n",
      "2332/2332 [==============================] - 0s 35us/step - loss: 7.1192e-05 - val_loss: 4.5899e-05\n",
      "Epoch 78/100\n",
      "2332/2332 [==============================] - 0s 34us/step - loss: 9.0235e-05 - val_loss: 1.3824e-04\n",
      "Epoch 79/100\n",
      "2332/2332 [==============================] - 0s 35us/step - loss: 1.4745e-04 - val_loss: 4.0885e-05\n",
      "Epoch 80/100\n",
      "2332/2332 [==============================] - 0s 34us/step - loss: 1.1342e-04 - val_loss: 5.2579e-05\n",
      "Epoch 81/100\n",
      "2332/2332 [==============================] - 0s 35us/step - loss: 6.3474e-05 - val_loss: 4.8159e-05\n",
      "Epoch 82/100\n",
      "2332/2332 [==============================] - 0s 35us/step - loss: 7.0145e-05 - val_loss: 4.5277e-05\n",
      "Epoch 83/100\n",
      "2332/2332 [==============================] - 0s 34us/step - loss: 6.2172e-05 - val_loss: 3.9679e-05\n",
      "Epoch 84/100\n",
      "2332/2332 [==============================] - 0s 34us/step - loss: 5.3763e-05 - val_loss: 4.7306e-05\n",
      "Epoch 85/100\n",
      "2332/2332 [==============================] - 0s 34us/step - loss: 5.3375e-05 - val_loss: 5.8847e-05\n",
      "Epoch 86/100\n",
      "2332/2332 [==============================] - 0s 33us/step - loss: 6.2517e-05 - val_loss: 3.9293e-05\n",
      "Epoch 87/100\n",
      "2332/2332 [==============================] - 0s 33us/step - loss: 8.6583e-05 - val_loss: 9.1248e-05\n",
      "Epoch 88/100\n",
      "2332/2332 [==============================] - 0s 33us/step - loss: 8.7922e-05 - val_loss: 9.5362e-05\n",
      "Epoch 89/100\n",
      "2332/2332 [==============================] - 0s 33us/step - loss: 1.3564e-04 - val_loss: 5.6183e-05\n",
      "Epoch 90/100\n",
      "2332/2332 [==============================] - 0s 33us/step - loss: 1.9610e-04 - val_loss: 7.1252e-05\n",
      "Epoch 91/100\n",
      "2332/2332 [==============================] - 0s 34us/step - loss: 1.1640e-04 - val_loss: 3.8812e-05\n",
      "Epoch 92/100\n",
      "2332/2332 [==============================] - 0s 34us/step - loss: 9.2963e-05 - val_loss: 1.0970e-04\n",
      "Epoch 93/100\n",
      "2332/2332 [==============================] - 0s 35us/step - loss: 1.1922e-04 - val_loss: 5.1014e-05\n",
      "Epoch 94/100\n",
      "2332/2332 [==============================] - 0s 34us/step - loss: 7.4322e-05 - val_loss: 9.8412e-05\n",
      "Epoch 95/100\n",
      "2332/2332 [==============================] - 0s 34us/step - loss: 1.1247e-04 - val_loss: 7.8371e-05\n",
      "Epoch 96/100\n",
      "2332/2332 [==============================] - 0s 34us/step - loss: 1.0237e-04 - val_loss: 1.4859e-04\n",
      "Epoch 97/100\n",
      "2332/2332 [==============================] - 0s 34us/step - loss: 1.4256e-04 - val_loss: 1.2657e-04\n",
      "Epoch 98/100\n",
      "2332/2332 [==============================] - 0s 34us/step - loss: 9.5428e-05 - val_loss: 8.2479e-05\n",
      "Epoch 99/100\n",
      "2332/2332 [==============================] - 0s 34us/step - loss: 8.1790e-05 - val_loss: 6.7531e-05\n",
      "Epoch 100/100\n",
      "2332/2332 [==============================] - 0s 34us/step - loss: 7.0442e-05 - val_loss: 4.6679e-05\n"
     ]
    }
   ],
   "source": [
    "import keras\n",
    "import keras.layers as layers\n",
    "from keras.models import Sequential\n",
    "from keras.initializers import he_normal\n",
    "\n",
    "input_shape = cnn_X[0].shape\n",
    "\n",
    "model = keras.Sequential()\n",
    "model.add(layers.Conv1D(filters=20, kernel_size=20, activation='relu', input_shape=cnn_X[0].shape))\n",
    "model.add(layers.AveragePooling1D(5))\n",
    "model.add(layers.Conv1D(filters=20, kernel_size=20, activation='relu'))\n",
    "model.add(layers.AveragePooling1D(5))\n",
    "model.add(layers.Flatten())\n",
    "model.add(layers.Dense(units=120, activation='relu'))\n",
    "model.add(layers.Dense(units=60, activation='relu'))\n",
    "model.add(layers.Dense(units=1, ))\n",
    "adam = keras.optimizers.Adam(lr=0.0005, beta_1=0.9, beta_2=0.99, epsilon=None, decay=0.01, amsgrad=False)\n",
    "model.compile(loss='mse', optimizer='adam')\n",
    "\n",
    "print(model.summary())\n",
    "\n",
    "history = model.fit(cnn_X_train, cnn_Y_train,\n",
    "                    batch_size=200,\n",
    "                    epochs=100,\n",
    "                    verbose=1,\n",
    "                    validation_split=0.1, )"
   ]
  },
  {
   "cell_type": "markdown",
   "metadata": {},
   "source": [
    "#### 訓練完CNN模型後，可依照模型的預測結果設計交易策略"
   ]
  },
  {
   "cell_type": "markdown",
   "metadata": {},
   "source": [
    "### save model"
   ]
  },
  {
   "cell_type": "markdown",
   "metadata": {},
   "source": [
    "#### 儲存訓練好的CNN模型，之後便可利用永豐python api取得盤中即時分K，丟入模型，產生預測結果"
   ]
  },
  {
   "cell_type": "code",
   "execution_count": 13,
   "metadata": {
    "ExecuteTime": {
     "end_time": "2020-12-30T02:10:48.269229Z",
     "start_time": "2020-12-30T02:10:48.121252Z"
    }
   },
   "outputs": [],
   "source": [
    "SaveName = stock_ID + '.h5' \n",
    "model.save(SaveName)"
   ]
  }
 ],
 "metadata": {
  "kernelspec": {
   "display_name": "finlab",
   "language": "python",
   "name": "finlab"
  },
  "language_info": {
   "codemirror_mode": {
    "name": "ipython",
    "version": 3
   },
   "file_extension": ".py",
   "mimetype": "text/x-python",
   "name": "python",
   "nbconvert_exporter": "python",
   "pygments_lexer": "ipython3",
   "version": "3.6.12"
  },
  "toc": {
   "base_numbering": 1,
   "nav_menu": {},
   "number_sections": true,
   "sideBar": true,
   "skip_h1_title": false,
   "title_cell": "Table of Contents",
   "title_sidebar": "Contents",
   "toc_cell": false,
   "toc_position": {},
   "toc_section_display": true,
   "toc_window_display": false
  },
  "varInspector": {
   "cols": {
    "lenName": 16,
    "lenType": 16,
    "lenVar": 40
   },
   "kernels_config": {
    "python": {
     "delete_cmd_postfix": "",
     "delete_cmd_prefix": "del ",
     "library": "var_list.py",
     "varRefreshCmd": "print(var_dic_list())"
    },
    "r": {
     "delete_cmd_postfix": ") ",
     "delete_cmd_prefix": "rm(",
     "library": "var_list.r",
     "varRefreshCmd": "cat(var_dic_list()) "
    }
   },
   "oldHeight": 341.4,
   "position": {
    "height": "40px",
    "left": "1266px",
    "right": "20px",
    "top": "120px",
    "width": "250px"
   },
   "types_to_exclude": [
    "module",
    "function",
    "builtin_function_or_method",
    "instance",
    "_Feature"
   ],
   "varInspector_section_display": "none",
   "window_display": true
  }
 },
 "nbformat": 4,
 "nbformat_minor": 4
}
